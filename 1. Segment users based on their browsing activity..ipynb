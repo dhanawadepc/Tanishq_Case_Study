{
 "cells": [
  {
   "cell_type": "markdown",
   "id": "aa6c5a94",
   "metadata": {},
   "source": [
    "# 1. Segment users based on their browsing activity."
   ]
  },
  {
   "cell_type": "markdown",
   "id": "52e59fe1",
   "metadata": {},
   "source": [
    "### INFERENCE:"
   ]
  },
  {
   "cell_type": "markdown",
   "id": "1c67f700",
   "metadata": {},
   "source": [
    "The Users are segmented based on their browsing activities. From the dataset given, \n",
    "User_Id and Action_type are the two features which are related to the USER and his Browsing Activities.\n",
    "Users are classified by the following actions:\n",
    "'view',\n",
    "'add_to_cart',\n",
    "'remove_from_cart',\n",
    "'add_to_wishlist',\n",
    "'place_order',\n",
    "'remove_from_wishlist',\n",
    "'register'\n",
    "\n",
    "out of those the number of users who just viewed the page are more. \n",
    "The count is so high as comapre to other class."
   ]
  },
  {
   "cell_type": "code",
   "execution_count": 1,
   "id": "c0ca72d6",
   "metadata": {},
   "outputs": [],
   "source": [
    "import pandas as pd\n",
    "import matplotlib.pyplot as plt\n",
    "import seaborn as sns\n",
    "from sklearn.cluster import k_means\n",
    "from sklearn import preprocessing"
   ]
  },
  {
   "cell_type": "code",
   "execution_count": 2,
   "id": "230a1d91",
   "metadata": {},
   "outputs": [],
   "source": [
    "pd.set_option('display.max_columns',18)"
   ]
  },
  {
   "cell_type": "code",
   "execution_count": 3,
   "id": "7dac466e",
   "metadata": {},
   "outputs": [],
   "source": [
    "df = pd.read_csv('Event Data.csv',low_memory=False)"
   ]
  },
  {
   "cell_type": "code",
   "execution_count": 8,
   "id": "1b256c2a",
   "metadata": {},
   "outputs": [
    {
     "data": {
      "text/plain": [
       "(801810, 18)"
      ]
     },
     "execution_count": 8,
     "metadata": {},
     "output_type": "execute_result"
    }
   ],
   "source": [
    "df.shape"
   ]
  },
  {
   "cell_type": "code",
   "execution_count": 9,
   "id": "9a95dbf0",
   "metadata": {},
   "outputs": [
    {
     "data": {
      "text/plain": [
       "<bound method DataFrame.info of        action_type user_type                    epoch  \\\n",
       "0             view     guest  2019-11-28 20:59:00.000   \n",
       "1             view     guest  2019-11-28 20:59:00.000   \n",
       "2             view     guest  2019-11-28 20:59:01.000   \n",
       "3             view     guest  2019-11-28 20:59:01.000   \n",
       "4             view     guest  2019-11-28 20:59:01.000   \n",
       "...            ...       ...                      ...   \n",
       "801805        view     guest  2019-11-29 15:00:16.000   \n",
       "801806        view     guest  2019-11-29 15:00:16.000   \n",
       "801807        view     guest  2019-11-29 15:00:16.000   \n",
       "801808        view     guest  2019-11-29 15:00:17.000   \n",
       "801809        view     guest  2019-11-29 15:00:17.000   \n",
       "\n",
       "                                                object_id user_id       sid  \\\n",
       "0       Buy Engagement Rings Online - Shop Diamond Eng...     NaN  0.693364   \n",
       "1                                          500064ONAABB09     NaN  0.472003   \n",
       "2       Buy Diamond Earrings Online in India | Shop La...     NaN  0.897467   \n",
       "3                                          511250PGUAAA00     NaN  0.403961   \n",
       "4                                          502112FHHLAJ54     NaN  0.961382   \n",
       "...                                                   ...     ...       ...   \n",
       "801805                                     512016DDUABAP1     NaN  0.076024   \n",
       "801806                                          Buy Gold      NaN  0.377371   \n",
       "801807  Buy Platinium Jewellery Online | Latest Platin...     NaN  0.992085   \n",
       "801808  Gold Chains: Buy Gold Chains Online in India |...     NaN  0.189184   \n",
       "801809  Buy Platinium Jewellery Online | Latest Platin...     NaN  0.992085   \n",
       "\n",
       "                                                   og_url          tt_id  \\\n",
       "0       https://www.tanishq.co.in/shop/engagement-ring...  1574974426476   \n",
       "1       https://www.tanishq.co.in/product/tanishq-18kt...  1574973022537   \n",
       "2       https://www.tanishq.co.in/shop/diamond-earring...  1574974640117   \n",
       "3       https://www.tanishq.co.in/product/tanishq-22kt...  1564659331282   \n",
       "4       https://www.tanishq.co.in/product/tanishq-18kt...  1574974721184   \n",
       "...                                                   ...            ...   \n",
       "801805  https://www.tanishq.co.in/product/tanishq-22kt...  1561834585014   \n",
       "801806  https://www.tanishq.co.in/shop/jewellery/price...  1575039554454   \n",
       "801807     https://www.tanishq.co.in/shop/platinum?page=2  1575039308672   \n",
       "801808  https://www.tanishq.co.in/shop/gold-chains?sor...  1570540154949   \n",
       "801809     https://www.tanishq.co.in/shop/platinum?page=3  1575039308672   \n",
       "\n",
       "       sub_account utm_source  \\\n",
       "0          tanishq        NaN   \n",
       "1          tanishq        NaN   \n",
       "2          tanishq        NaN   \n",
       "3          tanishq        NaN   \n",
       "4          tanishq        NaN   \n",
       "...            ...        ...   \n",
       "801805     tanishq        NaN   \n",
       "801806     tanishq        NaN   \n",
       "801807     tanishq        NaN   \n",
       "801808     tanishq        NaN   \n",
       "801809     tanishq        NaN   \n",
       "\n",
       "                                             utm_campaign utm_medium  \\\n",
       "0                                                     NaN        NaN   \n",
       "1                                                     NaN        NaN   \n",
       "2                                                     NaN        NaN   \n",
       "3       Sok_Traffic_MultipleAds_Prospecting_Tanishq_No...        cpc   \n",
       "4                                                     NaN        NaN   \n",
       "...                                                   ...        ...   \n",
       "801805                                                NaN        NaN   \n",
       "801806                                                NaN        NaN   \n",
       "801807                                                NaN        NaN   \n",
       "801808                                                NaN        NaN   \n",
       "801809                                                NaN        NaN   \n",
       "\n",
       "              referrer utm_content  latitude  longitude  \\\n",
       "0                  NaN         NaN   26.9167    75.8167   \n",
       "1                  NaN         NaN   13.0843    80.2805   \n",
       "2                  NaN         NaN   38.9841   -77.3672   \n",
       "3       m.facebook.com         NaN   26.9167    75.8167   \n",
       "4                  NaN         NaN   32.1000    76.2667   \n",
       "...                ...         ...       ...        ...   \n",
       "801805             NaN         NaN   18.5332    73.8626   \n",
       "801806             NaN         NaN   16.9917    78.3437   \n",
       "801807             NaN         NaN   28.4666    77.0309   \n",
       "801808             NaN         NaN    9.9819    76.2845   \n",
       "801809             NaN         NaN   28.4666    77.0309   \n",
       "\n",
       "                                                useragent variant_id  \n",
       "0       Mozilla/5.0 (Windows NT 10.0; Win64; x64) Appl...        NaN  \n",
       "1       Mozilla/5.0 (Windows NT 10.0; Win64; x64) Appl...  3IH000030  \n",
       "2       Mozilla/5.0 (iPhone; CPU iPhone OS 13_1_3 like...        NaN  \n",
       "3       Mozilla/5.0 (Linux; Android 8.1.0; Redmi Note ...  2ED000494  \n",
       "4       Mozilla/5.0 (iPhone; CPU iPhone OS 13_1_2 like...  3IH000001  \n",
       "...                                                   ...        ...  \n",
       "801805  Mozilla/5.0 (Linux; Android 8.1.0; CPH1803) Ap...  2EA000623  \n",
       "801806  Mozilla/5.0 (iPhone; CPU iPhone OS 13_2_2 like...        NaN  \n",
       "801807  Mozilla/5.0 (Macintosh; Intel Mac OS X 10_15) ...        NaN  \n",
       "801808  Mozilla/5.0 (Linux; Android 8.0.0; moto e5 plu...        NaN  \n",
       "801809  Mozilla/5.0 (Macintosh; Intel Mac OS X 10_15) ...        NaN  \n",
       "\n",
       "[801810 rows x 18 columns]>"
      ]
     },
     "execution_count": 9,
     "metadata": {},
     "output_type": "execute_result"
    }
   ],
   "source": [
    "df.info"
   ]
  },
  {
   "cell_type": "code",
   "execution_count": 10,
   "id": "4d8aa46d",
   "metadata": {},
   "outputs": [
    {
     "data": {
      "text/plain": [
       "<bound method NDFrame.describe of        action_type user_type                    epoch  \\\n",
       "0             view     guest  2019-11-28 20:59:00.000   \n",
       "1             view     guest  2019-11-28 20:59:00.000   \n",
       "2             view     guest  2019-11-28 20:59:01.000   \n",
       "3             view     guest  2019-11-28 20:59:01.000   \n",
       "4             view     guest  2019-11-28 20:59:01.000   \n",
       "...            ...       ...                      ...   \n",
       "801805        view     guest  2019-11-29 15:00:16.000   \n",
       "801806        view     guest  2019-11-29 15:00:16.000   \n",
       "801807        view     guest  2019-11-29 15:00:16.000   \n",
       "801808        view     guest  2019-11-29 15:00:17.000   \n",
       "801809        view     guest  2019-11-29 15:00:17.000   \n",
       "\n",
       "                                                object_id user_id       sid  \\\n",
       "0       Buy Engagement Rings Online - Shop Diamond Eng...     NaN  0.693364   \n",
       "1                                          500064ONAABB09     NaN  0.472003   \n",
       "2       Buy Diamond Earrings Online in India | Shop La...     NaN  0.897467   \n",
       "3                                          511250PGUAAA00     NaN  0.403961   \n",
       "4                                          502112FHHLAJ54     NaN  0.961382   \n",
       "...                                                   ...     ...       ...   \n",
       "801805                                     512016DDUABAP1     NaN  0.076024   \n",
       "801806                                          Buy Gold      NaN  0.377371   \n",
       "801807  Buy Platinium Jewellery Online | Latest Platin...     NaN  0.992085   \n",
       "801808  Gold Chains: Buy Gold Chains Online in India |...     NaN  0.189184   \n",
       "801809  Buy Platinium Jewellery Online | Latest Platin...     NaN  0.992085   \n",
       "\n",
       "                                                   og_url          tt_id  \\\n",
       "0       https://www.tanishq.co.in/shop/engagement-ring...  1574974426476   \n",
       "1       https://www.tanishq.co.in/product/tanishq-18kt...  1574973022537   \n",
       "2       https://www.tanishq.co.in/shop/diamond-earring...  1574974640117   \n",
       "3       https://www.tanishq.co.in/product/tanishq-22kt...  1564659331282   \n",
       "4       https://www.tanishq.co.in/product/tanishq-18kt...  1574974721184   \n",
       "...                                                   ...            ...   \n",
       "801805  https://www.tanishq.co.in/product/tanishq-22kt...  1561834585014   \n",
       "801806  https://www.tanishq.co.in/shop/jewellery/price...  1575039554454   \n",
       "801807     https://www.tanishq.co.in/shop/platinum?page=2  1575039308672   \n",
       "801808  https://www.tanishq.co.in/shop/gold-chains?sor...  1570540154949   \n",
       "801809     https://www.tanishq.co.in/shop/platinum?page=3  1575039308672   \n",
       "\n",
       "       sub_account utm_source  \\\n",
       "0          tanishq        NaN   \n",
       "1          tanishq        NaN   \n",
       "2          tanishq        NaN   \n",
       "3          tanishq        NaN   \n",
       "4          tanishq        NaN   \n",
       "...            ...        ...   \n",
       "801805     tanishq        NaN   \n",
       "801806     tanishq        NaN   \n",
       "801807     tanishq        NaN   \n",
       "801808     tanishq        NaN   \n",
       "801809     tanishq        NaN   \n",
       "\n",
       "                                             utm_campaign utm_medium  \\\n",
       "0                                                     NaN        NaN   \n",
       "1                                                     NaN        NaN   \n",
       "2                                                     NaN        NaN   \n",
       "3       Sok_Traffic_MultipleAds_Prospecting_Tanishq_No...        cpc   \n",
       "4                                                     NaN        NaN   \n",
       "...                                                   ...        ...   \n",
       "801805                                                NaN        NaN   \n",
       "801806                                                NaN        NaN   \n",
       "801807                                                NaN        NaN   \n",
       "801808                                                NaN        NaN   \n",
       "801809                                                NaN        NaN   \n",
       "\n",
       "              referrer utm_content  latitude  longitude  \\\n",
       "0                  NaN         NaN   26.9167    75.8167   \n",
       "1                  NaN         NaN   13.0843    80.2805   \n",
       "2                  NaN         NaN   38.9841   -77.3672   \n",
       "3       m.facebook.com         NaN   26.9167    75.8167   \n",
       "4                  NaN         NaN   32.1000    76.2667   \n",
       "...                ...         ...       ...        ...   \n",
       "801805             NaN         NaN   18.5332    73.8626   \n",
       "801806             NaN         NaN   16.9917    78.3437   \n",
       "801807             NaN         NaN   28.4666    77.0309   \n",
       "801808             NaN         NaN    9.9819    76.2845   \n",
       "801809             NaN         NaN   28.4666    77.0309   \n",
       "\n",
       "                                                useragent variant_id  \n",
       "0       Mozilla/5.0 (Windows NT 10.0; Win64; x64) Appl...        NaN  \n",
       "1       Mozilla/5.0 (Windows NT 10.0; Win64; x64) Appl...  3IH000030  \n",
       "2       Mozilla/5.0 (iPhone; CPU iPhone OS 13_1_3 like...        NaN  \n",
       "3       Mozilla/5.0 (Linux; Android 8.1.0; Redmi Note ...  2ED000494  \n",
       "4       Mozilla/5.0 (iPhone; CPU iPhone OS 13_1_2 like...  3IH000001  \n",
       "...                                                   ...        ...  \n",
       "801805  Mozilla/5.0 (Linux; Android 8.1.0; CPH1803) Ap...  2EA000623  \n",
       "801806  Mozilla/5.0 (iPhone; CPU iPhone OS 13_2_2 like...        NaN  \n",
       "801807  Mozilla/5.0 (Macintosh; Intel Mac OS X 10_15) ...        NaN  \n",
       "801808  Mozilla/5.0 (Linux; Android 8.0.0; moto e5 plu...        NaN  \n",
       "801809  Mozilla/5.0 (Macintosh; Intel Mac OS X 10_15) ...        NaN  \n",
       "\n",
       "[801810 rows x 18 columns]>"
      ]
     },
     "execution_count": 10,
     "metadata": {},
     "output_type": "execute_result"
    }
   ],
   "source": [
    "df.describe"
   ]
  },
  {
   "cell_type": "code",
   "execution_count": 4,
   "id": "63f76be0",
   "metadata": {},
   "outputs": [
    {
     "data": {
      "text/html": [
       "<div>\n",
       "<style scoped>\n",
       "    .dataframe tbody tr th:only-of-type {\n",
       "        vertical-align: middle;\n",
       "    }\n",
       "\n",
       "    .dataframe tbody tr th {\n",
       "        vertical-align: top;\n",
       "    }\n",
       "\n",
       "    .dataframe thead th {\n",
       "        text-align: right;\n",
       "    }\n",
       "</style>\n",
       "<table border=\"1\" class=\"dataframe\">\n",
       "  <thead>\n",
       "    <tr style=\"text-align: right;\">\n",
       "      <th></th>\n",
       "      <th>action_type</th>\n",
       "      <th>user_type</th>\n",
       "      <th>epoch</th>\n",
       "      <th>object_id</th>\n",
       "      <th>user_id</th>\n",
       "      <th>sid</th>\n",
       "      <th>og_url</th>\n",
       "      <th>tt_id</th>\n",
       "      <th>sub_account</th>\n",
       "      <th>utm_source</th>\n",
       "      <th>utm_campaign</th>\n",
       "      <th>utm_medium</th>\n",
       "      <th>referrer</th>\n",
       "      <th>utm_content</th>\n",
       "      <th>latitude</th>\n",
       "      <th>longitude</th>\n",
       "      <th>useragent</th>\n",
       "      <th>variant_id</th>\n",
       "    </tr>\n",
       "  </thead>\n",
       "  <tbody>\n",
       "    <tr>\n",
       "      <th>0</th>\n",
       "      <td>view</td>\n",
       "      <td>guest</td>\n",
       "      <td>2019-11-28 20:59:00.000</td>\n",
       "      <td>Buy Engagement Rings Online - Shop Diamond Eng...</td>\n",
       "      <td>NaN</td>\n",
       "      <td>0.693364</td>\n",
       "      <td>https://www.tanishq.co.in/shop/engagement-ring...</td>\n",
       "      <td>1574974426476</td>\n",
       "      <td>tanishq</td>\n",
       "      <td>NaN</td>\n",
       "      <td>NaN</td>\n",
       "      <td>NaN</td>\n",
       "      <td>NaN</td>\n",
       "      <td>NaN</td>\n",
       "      <td>26.9167</td>\n",
       "      <td>75.8167</td>\n",
       "      <td>Mozilla/5.0 (Windows NT 10.0; Win64; x64) Appl...</td>\n",
       "      <td>NaN</td>\n",
       "    </tr>\n",
       "    <tr>\n",
       "      <th>1</th>\n",
       "      <td>view</td>\n",
       "      <td>guest</td>\n",
       "      <td>2019-11-28 20:59:00.000</td>\n",
       "      <td>500064ONAABB09</td>\n",
       "      <td>NaN</td>\n",
       "      <td>0.472003</td>\n",
       "      <td>https://www.tanishq.co.in/product/tanishq-18kt...</td>\n",
       "      <td>1574973022537</td>\n",
       "      <td>tanishq</td>\n",
       "      <td>NaN</td>\n",
       "      <td>NaN</td>\n",
       "      <td>NaN</td>\n",
       "      <td>NaN</td>\n",
       "      <td>NaN</td>\n",
       "      <td>13.0843</td>\n",
       "      <td>80.2805</td>\n",
       "      <td>Mozilla/5.0 (Windows NT 10.0; Win64; x64) Appl...</td>\n",
       "      <td>3IH000030</td>\n",
       "    </tr>\n",
       "    <tr>\n",
       "      <th>2</th>\n",
       "      <td>view</td>\n",
       "      <td>guest</td>\n",
       "      <td>2019-11-28 20:59:01.000</td>\n",
       "      <td>Buy Diamond Earrings Online in India | Shop La...</td>\n",
       "      <td>NaN</td>\n",
       "      <td>0.897467</td>\n",
       "      <td>https://www.tanishq.co.in/shop/diamond-earring...</td>\n",
       "      <td>1574974640117</td>\n",
       "      <td>tanishq</td>\n",
       "      <td>NaN</td>\n",
       "      <td>NaN</td>\n",
       "      <td>NaN</td>\n",
       "      <td>NaN</td>\n",
       "      <td>NaN</td>\n",
       "      <td>38.9841</td>\n",
       "      <td>-77.3672</td>\n",
       "      <td>Mozilla/5.0 (iPhone; CPU iPhone OS 13_1_3 like...</td>\n",
       "      <td>NaN</td>\n",
       "    </tr>\n",
       "    <tr>\n",
       "      <th>3</th>\n",
       "      <td>view</td>\n",
       "      <td>guest</td>\n",
       "      <td>2019-11-28 20:59:01.000</td>\n",
       "      <td>511250PGUAAA00</td>\n",
       "      <td>NaN</td>\n",
       "      <td>0.403961</td>\n",
       "      <td>https://www.tanishq.co.in/product/tanishq-22kt...</td>\n",
       "      <td>1564659331282</td>\n",
       "      <td>tanishq</td>\n",
       "      <td>NaN</td>\n",
       "      <td>Sok_Traffic_MultipleAds_Prospecting_Tanishq_No...</td>\n",
       "      <td>cpc</td>\n",
       "      <td>m.facebook.com</td>\n",
       "      <td>NaN</td>\n",
       "      <td>26.9167</td>\n",
       "      <td>75.8167</td>\n",
       "      <td>Mozilla/5.0 (Linux; Android 8.1.0; Redmi Note ...</td>\n",
       "      <td>2ED000494</td>\n",
       "    </tr>\n",
       "  </tbody>\n",
       "</table>\n",
       "</div>"
      ],
      "text/plain": [
       "  action_type user_type                    epoch  \\\n",
       "0        view     guest  2019-11-28 20:59:00.000   \n",
       "1        view     guest  2019-11-28 20:59:00.000   \n",
       "2        view     guest  2019-11-28 20:59:01.000   \n",
       "3        view     guest  2019-11-28 20:59:01.000   \n",
       "\n",
       "                                           object_id user_id       sid  \\\n",
       "0  Buy Engagement Rings Online - Shop Diamond Eng...     NaN  0.693364   \n",
       "1                                     500064ONAABB09     NaN  0.472003   \n",
       "2  Buy Diamond Earrings Online in India | Shop La...     NaN  0.897467   \n",
       "3                                     511250PGUAAA00     NaN  0.403961   \n",
       "\n",
       "                                              og_url          tt_id  \\\n",
       "0  https://www.tanishq.co.in/shop/engagement-ring...  1574974426476   \n",
       "1  https://www.tanishq.co.in/product/tanishq-18kt...  1574973022537   \n",
       "2  https://www.tanishq.co.in/shop/diamond-earring...  1574974640117   \n",
       "3  https://www.tanishq.co.in/product/tanishq-22kt...  1564659331282   \n",
       "\n",
       "  sub_account utm_source                                       utm_campaign  \\\n",
       "0     tanishq        NaN                                                NaN   \n",
       "1     tanishq        NaN                                                NaN   \n",
       "2     tanishq        NaN                                                NaN   \n",
       "3     tanishq        NaN  Sok_Traffic_MultipleAds_Prospecting_Tanishq_No...   \n",
       "\n",
       "  utm_medium        referrer utm_content  latitude  longitude  \\\n",
       "0        NaN             NaN         NaN   26.9167    75.8167   \n",
       "1        NaN             NaN         NaN   13.0843    80.2805   \n",
       "2        NaN             NaN         NaN   38.9841   -77.3672   \n",
       "3        cpc  m.facebook.com         NaN   26.9167    75.8167   \n",
       "\n",
       "                                           useragent variant_id  \n",
       "0  Mozilla/5.0 (Windows NT 10.0; Win64; x64) Appl...        NaN  \n",
       "1  Mozilla/5.0 (Windows NT 10.0; Win64; x64) Appl...  3IH000030  \n",
       "2  Mozilla/5.0 (iPhone; CPU iPhone OS 13_1_3 like...        NaN  \n",
       "3  Mozilla/5.0 (Linux; Android 8.1.0; Redmi Note ...  2ED000494  "
      ]
     },
     "execution_count": 4,
     "metadata": {},
     "output_type": "execute_result"
    }
   ],
   "source": [
    "df.head(4)"
   ]
  },
  {
   "cell_type": "code",
   "execution_count": 5,
   "id": "831e47c1",
   "metadata": {},
   "outputs": [
    {
     "data": {
      "text/plain": [
       "6299"
      ]
     },
     "execution_count": 5,
     "metadata": {},
     "output_type": "execute_result"
    }
   ],
   "source": [
    "df['user_id'].notnull().sum()"
   ]
  },
  {
   "cell_type": "code",
   "execution_count": 6,
   "id": "8bca522b",
   "metadata": {},
   "outputs": [
    {
     "data": {
      "text/plain": [
       "801810"
      ]
     },
     "execution_count": 6,
     "metadata": {},
     "output_type": "execute_result"
    }
   ],
   "source": [
    "df['tt_id'].notnull().sum()"
   ]
  },
  {
   "cell_type": "code",
   "execution_count": 7,
   "id": "17a03d86",
   "metadata": {},
   "outputs": [
    {
     "data": {
      "text/plain": [
       "0"
      ]
     },
     "execution_count": 7,
     "metadata": {},
     "output_type": "execute_result"
    }
   ],
   "source": [
    "df['tt_id'].isnull().sum()"
   ]
  },
  {
   "cell_type": "code",
   "execution_count": 12,
   "id": "8b1bdbf6",
   "metadata": {},
   "outputs": [
    {
     "data": {
      "text/plain": [
       "action_type          0\n",
       "user_type            0\n",
       "epoch                0\n",
       "object_id           17\n",
       "user_id         795511\n",
       "sid                  0\n",
       "og_url               0\n",
       "tt_id                0\n",
       "sub_account          0\n",
       "utm_source      763136\n",
       "utm_campaign    608639\n",
       "utm_medium      608639\n",
       "referrer        441725\n",
       "utm_content     797840\n",
       "latitude             0\n",
       "longitude            0\n",
       "useragent            1\n",
       "variant_id      474166\n",
       "dtype: int64"
      ]
     },
     "execution_count": 12,
     "metadata": {},
     "output_type": "execute_result"
    }
   ],
   "source": [
    "df.isna().sum()"
   ]
  },
  {
   "cell_type": "code",
   "execution_count": 13,
   "id": "6294caf4",
   "metadata": {},
   "outputs": [
    {
     "data": {
      "text/plain": [
       "18"
      ]
     },
     "execution_count": 13,
     "metadata": {},
     "output_type": "execute_result"
    }
   ],
   "source": [
    "len(df.columns)"
   ]
  },
  {
   "cell_type": "markdown",
   "id": "1e946239",
   "metadata": {},
   "source": [
    "### Browsing activity of the user is specified by the feature 'action_type'. While user is surfing for any purpose, \n",
    "### what actions/activities he has performed like 'view' or 'add to cart' or 'place order' etc.\n",
    "### so to segment users based on activities, we have to focus on 'action_type'"
   ]
  },
  {
   "cell_type": "code",
   "execution_count": 20,
   "id": "aa84f7b8",
   "metadata": {},
   "outputs": [
    {
     "name": "stdout",
     "output_type": "stream",
     "text": [
      "Action Type Count:  801810\n",
      "Number of Records in Dataset:  801810\n"
     ]
    }
   ],
   "source": [
    "print('Action Type Count: ',df.action_type.notnull().count())\n",
    "print('Number of Records in Dataset: ', len(df))"
   ]
  },
  {
   "cell_type": "markdown",
   "id": "26cf0025",
   "metadata": {},
   "source": [
    "### The feature 'action_type' has null value count equals to zero. it means it is the best verticle to identify the user class "
   ]
  },
  {
   "cell_type": "code",
   "execution_count": 15,
   "id": "b51b5617",
   "metadata": {},
   "outputs": [
    {
     "data": {
      "text/html": [
       "<div>\n",
       "<style scoped>\n",
       "    .dataframe tbody tr th:only-of-type {\n",
       "        vertical-align: middle;\n",
       "    }\n",
       "\n",
       "    .dataframe tbody tr th {\n",
       "        vertical-align: top;\n",
       "    }\n",
       "\n",
       "    .dataframe thead th {\n",
       "        text-align: right;\n",
       "    }\n",
       "</style>\n",
       "<table border=\"1\" class=\"dataframe\">\n",
       "  <thead>\n",
       "    <tr style=\"text-align: right;\">\n",
       "      <th></th>\n",
       "      <th>action_type</th>\n",
       "      <th>user_type</th>\n",
       "      <th>epoch</th>\n",
       "      <th>object_id</th>\n",
       "      <th>user_id</th>\n",
       "      <th>sid</th>\n",
       "      <th>og_url</th>\n",
       "      <th>tt_id</th>\n",
       "      <th>sub_account</th>\n",
       "      <th>utm_source</th>\n",
       "      <th>utm_campaign</th>\n",
       "      <th>utm_medium</th>\n",
       "      <th>referrer</th>\n",
       "      <th>utm_content</th>\n",
       "      <th>latitude</th>\n",
       "      <th>longitude</th>\n",
       "      <th>useragent</th>\n",
       "      <th>variant_id</th>\n",
       "    </tr>\n",
       "  </thead>\n",
       "  <tbody>\n",
       "    <tr>\n",
       "      <th>0</th>\n",
       "      <td>view</td>\n",
       "      <td>guest</td>\n",
       "      <td>2019-11-28 20:59:00.000</td>\n",
       "      <td>Buy Engagement Rings Online - Shop Diamond Eng...</td>\n",
       "      <td>NaN</td>\n",
       "      <td>0.693364</td>\n",
       "      <td>https://www.tanishq.co.in/shop/engagement-ring...</td>\n",
       "      <td>1574974426476</td>\n",
       "      <td>tanishq</td>\n",
       "      <td>NaN</td>\n",
       "      <td>NaN</td>\n",
       "      <td>NaN</td>\n",
       "      <td>NaN</td>\n",
       "      <td>NaN</td>\n",
       "      <td>26.9167</td>\n",
       "      <td>75.8167</td>\n",
       "      <td>Mozilla/5.0 (Windows NT 10.0; Win64; x64) Appl...</td>\n",
       "      <td>NaN</td>\n",
       "    </tr>\n",
       "    <tr>\n",
       "      <th>1</th>\n",
       "      <td>view</td>\n",
       "      <td>guest</td>\n",
       "      <td>2019-11-28 20:59:00.000</td>\n",
       "      <td>500064ONAABB09</td>\n",
       "      <td>NaN</td>\n",
       "      <td>0.472003</td>\n",
       "      <td>https://www.tanishq.co.in/product/tanishq-18kt...</td>\n",
       "      <td>1574973022537</td>\n",
       "      <td>tanishq</td>\n",
       "      <td>NaN</td>\n",
       "      <td>NaN</td>\n",
       "      <td>NaN</td>\n",
       "      <td>NaN</td>\n",
       "      <td>NaN</td>\n",
       "      <td>13.0843</td>\n",
       "      <td>80.2805</td>\n",
       "      <td>Mozilla/5.0 (Windows NT 10.0; Win64; x64) Appl...</td>\n",
       "      <td>3IH000030</td>\n",
       "    </tr>\n",
       "    <tr>\n",
       "      <th>2</th>\n",
       "      <td>view</td>\n",
       "      <td>guest</td>\n",
       "      <td>2019-11-28 20:59:01.000</td>\n",
       "      <td>Buy Diamond Earrings Online in India | Shop La...</td>\n",
       "      <td>NaN</td>\n",
       "      <td>0.897467</td>\n",
       "      <td>https://www.tanishq.co.in/shop/diamond-earring...</td>\n",
       "      <td>1574974640117</td>\n",
       "      <td>tanishq</td>\n",
       "      <td>NaN</td>\n",
       "      <td>NaN</td>\n",
       "      <td>NaN</td>\n",
       "      <td>NaN</td>\n",
       "      <td>NaN</td>\n",
       "      <td>38.9841</td>\n",
       "      <td>-77.3672</td>\n",
       "      <td>Mozilla/5.0 (iPhone; CPU iPhone OS 13_1_3 like...</td>\n",
       "      <td>NaN</td>\n",
       "    </tr>\n",
       "    <tr>\n",
       "      <th>3</th>\n",
       "      <td>view</td>\n",
       "      <td>guest</td>\n",
       "      <td>2019-11-28 20:59:01.000</td>\n",
       "      <td>511250PGUAAA00</td>\n",
       "      <td>NaN</td>\n",
       "      <td>0.403961</td>\n",
       "      <td>https://www.tanishq.co.in/product/tanishq-22kt...</td>\n",
       "      <td>1564659331282</td>\n",
       "      <td>tanishq</td>\n",
       "      <td>NaN</td>\n",
       "      <td>Sok_Traffic_MultipleAds_Prospecting_Tanishq_No...</td>\n",
       "      <td>cpc</td>\n",
       "      <td>m.facebook.com</td>\n",
       "      <td>NaN</td>\n",
       "      <td>26.9167</td>\n",
       "      <td>75.8167</td>\n",
       "      <td>Mozilla/5.0 (Linux; Android 8.1.0; Redmi Note ...</td>\n",
       "      <td>2ED000494</td>\n",
       "    </tr>\n",
       "    <tr>\n",
       "      <th>4</th>\n",
       "      <td>view</td>\n",
       "      <td>guest</td>\n",
       "      <td>2019-11-28 20:59:01.000</td>\n",
       "      <td>502112FHHLAJ54</td>\n",
       "      <td>NaN</td>\n",
       "      <td>0.961382</td>\n",
       "      <td>https://www.tanishq.co.in/product/tanishq-18kt...</td>\n",
       "      <td>1574974721184</td>\n",
       "      <td>tanishq</td>\n",
       "      <td>NaN</td>\n",
       "      <td>NaN</td>\n",
       "      <td>NaN</td>\n",
       "      <td>NaN</td>\n",
       "      <td>NaN</td>\n",
       "      <td>32.1000</td>\n",
       "      <td>76.2667</td>\n",
       "      <td>Mozilla/5.0 (iPhone; CPU iPhone OS 13_1_2 like...</td>\n",
       "      <td>3IH000001</td>\n",
       "    </tr>\n",
       "    <tr>\n",
       "      <th>...</th>\n",
       "      <td>...</td>\n",
       "      <td>...</td>\n",
       "      <td>...</td>\n",
       "      <td>...</td>\n",
       "      <td>...</td>\n",
       "      <td>...</td>\n",
       "      <td>...</td>\n",
       "      <td>...</td>\n",
       "      <td>...</td>\n",
       "      <td>...</td>\n",
       "      <td>...</td>\n",
       "      <td>...</td>\n",
       "      <td>...</td>\n",
       "      <td>...</td>\n",
       "      <td>...</td>\n",
       "      <td>...</td>\n",
       "      <td>...</td>\n",
       "      <td>...</td>\n",
       "    </tr>\n",
       "    <tr>\n",
       "      <th>801805</th>\n",
       "      <td>view</td>\n",
       "      <td>guest</td>\n",
       "      <td>2019-11-29 15:00:16.000</td>\n",
       "      <td>512016DDUABAP1</td>\n",
       "      <td>NaN</td>\n",
       "      <td>0.076024</td>\n",
       "      <td>https://www.tanishq.co.in/product/tanishq-22kt...</td>\n",
       "      <td>1561834585014</td>\n",
       "      <td>tanishq</td>\n",
       "      <td>NaN</td>\n",
       "      <td>NaN</td>\n",
       "      <td>NaN</td>\n",
       "      <td>NaN</td>\n",
       "      <td>NaN</td>\n",
       "      <td>18.5332</td>\n",
       "      <td>73.8626</td>\n",
       "      <td>Mozilla/5.0 (Linux; Android 8.1.0; CPH1803) Ap...</td>\n",
       "      <td>2EA000623</td>\n",
       "    </tr>\n",
       "    <tr>\n",
       "      <th>801806</th>\n",
       "      <td>view</td>\n",
       "      <td>guest</td>\n",
       "      <td>2019-11-29 15:00:16.000</td>\n",
       "      <td>Buy Gold</td>\n",
       "      <td>NaN</td>\n",
       "      <td>0.377371</td>\n",
       "      <td>https://www.tanishq.co.in/shop/jewellery/price...</td>\n",
       "      <td>1575039554454</td>\n",
       "      <td>tanishq</td>\n",
       "      <td>NaN</td>\n",
       "      <td>NaN</td>\n",
       "      <td>NaN</td>\n",
       "      <td>NaN</td>\n",
       "      <td>NaN</td>\n",
       "      <td>16.9917</td>\n",
       "      <td>78.3437</td>\n",
       "      <td>Mozilla/5.0 (iPhone; CPU iPhone OS 13_2_2 like...</td>\n",
       "      <td>NaN</td>\n",
       "    </tr>\n",
       "    <tr>\n",
       "      <th>801807</th>\n",
       "      <td>view</td>\n",
       "      <td>guest</td>\n",
       "      <td>2019-11-29 15:00:16.000</td>\n",
       "      <td>Buy Platinium Jewellery Online | Latest Platin...</td>\n",
       "      <td>NaN</td>\n",
       "      <td>0.992085</td>\n",
       "      <td>https://www.tanishq.co.in/shop/platinum?page=2</td>\n",
       "      <td>1575039308672</td>\n",
       "      <td>tanishq</td>\n",
       "      <td>NaN</td>\n",
       "      <td>NaN</td>\n",
       "      <td>NaN</td>\n",
       "      <td>NaN</td>\n",
       "      <td>NaN</td>\n",
       "      <td>28.4666</td>\n",
       "      <td>77.0309</td>\n",
       "      <td>Mozilla/5.0 (Macintosh; Intel Mac OS X 10_15) ...</td>\n",
       "      <td>NaN</td>\n",
       "    </tr>\n",
       "    <tr>\n",
       "      <th>801808</th>\n",
       "      <td>view</td>\n",
       "      <td>guest</td>\n",
       "      <td>2019-11-29 15:00:17.000</td>\n",
       "      <td>Gold Chains: Buy Gold Chains Online in India |...</td>\n",
       "      <td>NaN</td>\n",
       "      <td>0.189184</td>\n",
       "      <td>https://www.tanishq.co.in/shop/gold-chains?sor...</td>\n",
       "      <td>1570540154949</td>\n",
       "      <td>tanishq</td>\n",
       "      <td>NaN</td>\n",
       "      <td>NaN</td>\n",
       "      <td>NaN</td>\n",
       "      <td>NaN</td>\n",
       "      <td>NaN</td>\n",
       "      <td>9.9819</td>\n",
       "      <td>76.2845</td>\n",
       "      <td>Mozilla/5.0 (Linux; Android 8.0.0; moto e5 plu...</td>\n",
       "      <td>NaN</td>\n",
       "    </tr>\n",
       "    <tr>\n",
       "      <th>801809</th>\n",
       "      <td>view</td>\n",
       "      <td>guest</td>\n",
       "      <td>2019-11-29 15:00:17.000</td>\n",
       "      <td>Buy Platinium Jewellery Online | Latest Platin...</td>\n",
       "      <td>NaN</td>\n",
       "      <td>0.992085</td>\n",
       "      <td>https://www.tanishq.co.in/shop/platinum?page=3</td>\n",
       "      <td>1575039308672</td>\n",
       "      <td>tanishq</td>\n",
       "      <td>NaN</td>\n",
       "      <td>NaN</td>\n",
       "      <td>NaN</td>\n",
       "      <td>NaN</td>\n",
       "      <td>NaN</td>\n",
       "      <td>28.4666</td>\n",
       "      <td>77.0309</td>\n",
       "      <td>Mozilla/5.0 (Macintosh; Intel Mac OS X 10_15) ...</td>\n",
       "      <td>NaN</td>\n",
       "    </tr>\n",
       "  </tbody>\n",
       "</table>\n",
       "<p>796899 rows × 18 columns</p>\n",
       "</div>"
      ],
      "text/plain": [
       "       action_type user_type                    epoch  \\\n",
       "0             view     guest  2019-11-28 20:59:00.000   \n",
       "1             view     guest  2019-11-28 20:59:00.000   \n",
       "2             view     guest  2019-11-28 20:59:01.000   \n",
       "3             view     guest  2019-11-28 20:59:01.000   \n",
       "4             view     guest  2019-11-28 20:59:01.000   \n",
       "...            ...       ...                      ...   \n",
       "801805        view     guest  2019-11-29 15:00:16.000   \n",
       "801806        view     guest  2019-11-29 15:00:16.000   \n",
       "801807        view     guest  2019-11-29 15:00:16.000   \n",
       "801808        view     guest  2019-11-29 15:00:17.000   \n",
       "801809        view     guest  2019-11-29 15:00:17.000   \n",
       "\n",
       "                                                object_id user_id       sid  \\\n",
       "0       Buy Engagement Rings Online - Shop Diamond Eng...     NaN  0.693364   \n",
       "1                                          500064ONAABB09     NaN  0.472003   \n",
       "2       Buy Diamond Earrings Online in India | Shop La...     NaN  0.897467   \n",
       "3                                          511250PGUAAA00     NaN  0.403961   \n",
       "4                                          502112FHHLAJ54     NaN  0.961382   \n",
       "...                                                   ...     ...       ...   \n",
       "801805                                     512016DDUABAP1     NaN  0.076024   \n",
       "801806                                          Buy Gold      NaN  0.377371   \n",
       "801807  Buy Platinium Jewellery Online | Latest Platin...     NaN  0.992085   \n",
       "801808  Gold Chains: Buy Gold Chains Online in India |...     NaN  0.189184   \n",
       "801809  Buy Platinium Jewellery Online | Latest Platin...     NaN  0.992085   \n",
       "\n",
       "                                                   og_url          tt_id  \\\n",
       "0       https://www.tanishq.co.in/shop/engagement-ring...  1574974426476   \n",
       "1       https://www.tanishq.co.in/product/tanishq-18kt...  1574973022537   \n",
       "2       https://www.tanishq.co.in/shop/diamond-earring...  1574974640117   \n",
       "3       https://www.tanishq.co.in/product/tanishq-22kt...  1564659331282   \n",
       "4       https://www.tanishq.co.in/product/tanishq-18kt...  1574974721184   \n",
       "...                                                   ...            ...   \n",
       "801805  https://www.tanishq.co.in/product/tanishq-22kt...  1561834585014   \n",
       "801806  https://www.tanishq.co.in/shop/jewellery/price...  1575039554454   \n",
       "801807     https://www.tanishq.co.in/shop/platinum?page=2  1575039308672   \n",
       "801808  https://www.tanishq.co.in/shop/gold-chains?sor...  1570540154949   \n",
       "801809     https://www.tanishq.co.in/shop/platinum?page=3  1575039308672   \n",
       "\n",
       "       sub_account utm_source  \\\n",
       "0          tanishq        NaN   \n",
       "1          tanishq        NaN   \n",
       "2          tanishq        NaN   \n",
       "3          tanishq        NaN   \n",
       "4          tanishq        NaN   \n",
       "...            ...        ...   \n",
       "801805     tanishq        NaN   \n",
       "801806     tanishq        NaN   \n",
       "801807     tanishq        NaN   \n",
       "801808     tanishq        NaN   \n",
       "801809     tanishq        NaN   \n",
       "\n",
       "                                             utm_campaign utm_medium  \\\n",
       "0                                                     NaN        NaN   \n",
       "1                                                     NaN        NaN   \n",
       "2                                                     NaN        NaN   \n",
       "3       Sok_Traffic_MultipleAds_Prospecting_Tanishq_No...        cpc   \n",
       "4                                                     NaN        NaN   \n",
       "...                                                   ...        ...   \n",
       "801805                                                NaN        NaN   \n",
       "801806                                                NaN        NaN   \n",
       "801807                                                NaN        NaN   \n",
       "801808                                                NaN        NaN   \n",
       "801809                                                NaN        NaN   \n",
       "\n",
       "              referrer utm_content  latitude  longitude  \\\n",
       "0                  NaN         NaN   26.9167    75.8167   \n",
       "1                  NaN         NaN   13.0843    80.2805   \n",
       "2                  NaN         NaN   38.9841   -77.3672   \n",
       "3       m.facebook.com         NaN   26.9167    75.8167   \n",
       "4                  NaN         NaN   32.1000    76.2667   \n",
       "...                ...         ...       ...        ...   \n",
       "801805             NaN         NaN   18.5332    73.8626   \n",
       "801806             NaN         NaN   16.9917    78.3437   \n",
       "801807             NaN         NaN   28.4666    77.0309   \n",
       "801808             NaN         NaN    9.9819    76.2845   \n",
       "801809             NaN         NaN   28.4666    77.0309   \n",
       "\n",
       "                                                useragent variant_id  \n",
       "0       Mozilla/5.0 (Windows NT 10.0; Win64; x64) Appl...        NaN  \n",
       "1       Mozilla/5.0 (Windows NT 10.0; Win64; x64) Appl...  3IH000030  \n",
       "2       Mozilla/5.0 (iPhone; CPU iPhone OS 13_1_3 like...        NaN  \n",
       "3       Mozilla/5.0 (Linux; Android 8.1.0; Redmi Note ...  2ED000494  \n",
       "4       Mozilla/5.0 (iPhone; CPU iPhone OS 13_1_2 like...  3IH000001  \n",
       "...                                                   ...        ...  \n",
       "801805  Mozilla/5.0 (Linux; Android 8.1.0; CPH1803) Ap...  2EA000623  \n",
       "801806  Mozilla/5.0 (iPhone; CPU iPhone OS 13_2_2 like...        NaN  \n",
       "801807  Mozilla/5.0 (Macintosh; Intel Mac OS X 10_15) ...        NaN  \n",
       "801808  Mozilla/5.0 (Linux; Android 8.0.0; moto e5 plu...        NaN  \n",
       "801809  Mozilla/5.0 (Macintosh; Intel Mac OS X 10_15) ...        NaN  \n",
       "\n",
       "[796899 rows x 18 columns]"
      ]
     },
     "execution_count": 15,
     "metadata": {},
     "output_type": "execute_result"
    }
   ],
   "source": [
    "df.groupby('action_type').get_group('view')"
   ]
  },
  {
   "cell_type": "code",
   "execution_count": 16,
   "id": "a4d32792",
   "metadata": {},
   "outputs": [
    {
     "data": {
      "text/plain": [
       "796899"
      ]
     },
     "execution_count": 16,
     "metadata": {},
     "output_type": "execute_result"
    }
   ],
   "source": [
    "df.groupby('action_type').get_group('view')['tt_id'].count()"
   ]
  },
  {
   "cell_type": "code",
   "execution_count": 22,
   "id": "695cdff5",
   "metadata": {},
   "outputs": [
    {
     "data": {
      "text/plain": [
       "['view',\n",
       " 'add_to_cart',\n",
       " 'remove_from_cart',\n",
       " 'add_to_wishlist',\n",
       " 'place_order',\n",
       " 'remove_from_wishlist',\n",
       " 'register']"
      ]
     },
     "execution_count": 22,
     "metadata": {},
     "output_type": "execute_result"
    }
   ],
   "source": [
    "# df.action_type.unique()\n",
    "activity = list(df['action_type'].unique())\n",
    "activity"
   ]
  },
  {
   "cell_type": "code",
   "execution_count": 23,
   "id": "1e57425a",
   "metadata": {},
   "outputs": [],
   "source": [
    "list_action_type = []\n",
    "list_count = []\n",
    "\n",
    "for i in activity:\n",
    "    list_action_type.append(i)\n",
    "    list_count.append(df.groupby('action_type').get_group(i)['tt_id'].count())"
   ]
  },
  {
   "cell_type": "code",
   "execution_count": 24,
   "id": "f2099fb3",
   "metadata": {},
   "outputs": [
    {
     "data": {
      "text/plain": [
       "(['view',\n",
       "  'add_to_cart',\n",
       "  'remove_from_cart',\n",
       "  'add_to_wishlist',\n",
       "  'place_order',\n",
       "  'remove_from_wishlist',\n",
       "  'register'],\n",
       " [796899, 4045, 395, 208, 136, 17, 110])"
      ]
     },
     "execution_count": 24,
     "metadata": {},
     "output_type": "execute_result"
    }
   ],
   "source": [
    "list_action_type,list_count"
   ]
  },
  {
   "cell_type": "code",
   "execution_count": 25,
   "id": "e91e9fac",
   "metadata": {},
   "outputs": [
    {
     "data": {
      "text/html": [
       "<div>\n",
       "<style scoped>\n",
       "    .dataframe tbody tr th:only-of-type {\n",
       "        vertical-align: middle;\n",
       "    }\n",
       "\n",
       "    .dataframe tbody tr th {\n",
       "        vertical-align: top;\n",
       "    }\n",
       "\n",
       "    .dataframe thead th {\n",
       "        text-align: right;\n",
       "    }\n",
       "</style>\n",
       "<table border=\"1\" class=\"dataframe\">\n",
       "  <thead>\n",
       "    <tr style=\"text-align: right;\">\n",
       "      <th></th>\n",
       "      <th>Activity</th>\n",
       "      <th>Activity_Count</th>\n",
       "    </tr>\n",
       "  </thead>\n",
       "  <tbody>\n",
       "    <tr>\n",
       "      <th>0</th>\n",
       "      <td>view</td>\n",
       "      <td>796899</td>\n",
       "    </tr>\n",
       "    <tr>\n",
       "      <th>1</th>\n",
       "      <td>add_to_cart</td>\n",
       "      <td>4045</td>\n",
       "    </tr>\n",
       "    <tr>\n",
       "      <th>2</th>\n",
       "      <td>remove_from_cart</td>\n",
       "      <td>395</td>\n",
       "    </tr>\n",
       "    <tr>\n",
       "      <th>3</th>\n",
       "      <td>add_to_wishlist</td>\n",
       "      <td>208</td>\n",
       "    </tr>\n",
       "    <tr>\n",
       "      <th>4</th>\n",
       "      <td>place_order</td>\n",
       "      <td>136</td>\n",
       "    </tr>\n",
       "    <tr>\n",
       "      <th>5</th>\n",
       "      <td>remove_from_wishlist</td>\n",
       "      <td>17</td>\n",
       "    </tr>\n",
       "    <tr>\n",
       "      <th>6</th>\n",
       "      <td>register</td>\n",
       "      <td>110</td>\n",
       "    </tr>\n",
       "  </tbody>\n",
       "</table>\n",
       "</div>"
      ],
      "text/plain": [
       "               Activity  Activity_Count\n",
       "0                  view          796899\n",
       "1           add_to_cart            4045\n",
       "2      remove_from_cart             395\n",
       "3       add_to_wishlist             208\n",
       "4           place_order             136\n",
       "5  remove_from_wishlist              17\n",
       "6              register             110"
      ]
     },
     "execution_count": 25,
     "metadata": {},
     "output_type": "execute_result"
    }
   ],
   "source": [
    "df_seg = pd.DataFrame({'Activity': list_action_type,'Activity_Count':list_count})\n",
    "df_seg"
   ]
  },
  {
   "cell_type": "markdown",
   "id": "c0c8d73f",
   "metadata": {},
   "source": [
    "##### The users who just VIEWED the page has more count than other acticities. And Data is completely Unbalanced. \n",
    "#### The Largest Value is 796899 whereas the Second highest value is just 4045. The difference is huge. \n",
    "#### In that case the graphical representation seems weird. Other activities bar is even not visible as compared to VIEW bar.  "
   ]
  },
  {
   "cell_type": "code",
   "execution_count": 27,
   "id": "836d0dd9",
   "metadata": {},
   "outputs": [
    {
     "data": {
      "image/png": "[encoded data removed]",
      "text/plain": [
       "<Figure size 640x480 with 1 Axes>"
      ]
     },
     "metadata": {},
     "output_type": "display_data"
    }
   ],
   "source": [
    "df_seg.plot(kind='bar',x='Activity',y='Activity_Count');"
   ]
  },
  {
   "cell_type": "markdown",
   "id": "c1711e80",
   "metadata": {},
   "source": [
    "### To tackle this, standard scaling is needed."
   ]
  },
  {
   "cell_type": "code",
   "execution_count": 28,
   "id": "43618257",
   "metadata": {},
   "outputs": [
    {
     "data": {
      "text/html": [
       "<div>\n",
       "<style scoped>\n",
       "    .dataframe tbody tr th:only-of-type {\n",
       "        vertical-align: middle;\n",
       "    }\n",
       "\n",
       "    .dataframe tbody tr th {\n",
       "        vertical-align: top;\n",
       "    }\n",
       "\n",
       "    .dataframe thead th {\n",
       "        text-align: right;\n",
       "    }\n",
       "</style>\n",
       "<table border=\"1\" class=\"dataframe\">\n",
       "  <thead>\n",
       "    <tr style=\"text-align: right;\">\n",
       "      <th></th>\n",
       "      <th>Activity</th>\n",
       "      <th>Activity_Count</th>\n",
       "      <th>standardscale</th>\n",
       "    </tr>\n",
       "  </thead>\n",
       "  <tbody>\n",
       "    <tr>\n",
       "      <th>0</th>\n",
       "      <td>view</td>\n",
       "      <td>796899</td>\n",
       "      <td>2.449461</td>\n",
       "    </tr>\n",
       "    <tr>\n",
       "      <th>1</th>\n",
       "      <td>add_to_cart</td>\n",
       "      <td>4045</td>\n",
       "      <td>-0.396661</td>\n",
       "    </tr>\n",
       "    <tr>\n",
       "      <th>2</th>\n",
       "      <td>remove_from_cart</td>\n",
       "      <td>395</td>\n",
       "      <td>-0.409764</td>\n",
       "    </tr>\n",
       "    <tr>\n",
       "      <th>3</th>\n",
       "      <td>add_to_wishlist</td>\n",
       "      <td>208</td>\n",
       "      <td>-0.410435</td>\n",
       "    </tr>\n",
       "    <tr>\n",
       "      <th>4</th>\n",
       "      <td>place_order</td>\n",
       "      <td>136</td>\n",
       "      <td>-0.410694</td>\n",
       "    </tr>\n",
       "    <tr>\n",
       "      <th>5</th>\n",
       "      <td>remove_from_wishlist</td>\n",
       "      <td>17</td>\n",
       "      <td>-0.411121</td>\n",
       "    </tr>\n",
       "    <tr>\n",
       "      <th>6</th>\n",
       "      <td>register</td>\n",
       "      <td>110</td>\n",
       "      <td>-0.410787</td>\n",
       "    </tr>\n",
       "  </tbody>\n",
       "</table>\n",
       "</div>"
      ],
      "text/plain": [
       "               Activity  Activity_Count  standardscale\n",
       "0                  view          796899       2.449461\n",
       "1           add_to_cart            4045      -0.396661\n",
       "2      remove_from_cart             395      -0.409764\n",
       "3       add_to_wishlist             208      -0.410435\n",
       "4           place_order             136      -0.410694\n",
       "5  remove_from_wishlist              17      -0.411121\n",
       "6              register             110      -0.410787"
      ]
     },
     "execution_count": 28,
     "metadata": {},
     "output_type": "execute_result"
    }
   ],
   "source": [
    "stdscale = preprocessing.StandardScaler()\n",
    "scaled_act = stdscale.fit_transform(df_seg[['Activity_Count']])\n",
    "df_seg['standardscale'] =  scaled_act\n",
    "df_seg"
   ]
  },
  {
   "cell_type": "code",
   "execution_count": 34,
   "id": "5702b0ef",
   "metadata": {},
   "outputs": [
    {
     "data": {
      "text/plain": [
       "<Figure size 5000x1000 with 0 Axes>"
      ]
     },
     "metadata": {},
     "output_type": "display_data"
    },
    {
     "data": {
      "image/png": "[encoded data removed]",
      "text/plain": [
       "<Figure size 640x480 with 1 Axes>"
      ]
     },
     "metadata": {},
     "output_type": "display_data"
    }
   ],
   "source": [
    "plt.figure(figsize=[50,10])\n",
    "df_seg.plot(kind='bar',x='Activity',y='standardscale');\n",
    "plt.xlabel('Action Segment')\n",
    "plt.ylabel('Action Frequency')\n",
    "plt.title('Segmentation based on Browsing Activity')\n",
    "plt.savefig('BarPlot')"
   ]
  },
  {
   "cell_type": "code",
   "execution_count": 37,
   "id": "71b33b08",
   "metadata": {},
   "outputs": [
    {
     "data": {
      "image/png": "[encoded data removed]",
      "text/plain": [
       "<Figure size 1500x500 with 1 Axes>"
      ]
     },
     "metadata": {},
     "output_type": "display_data"
    }
   ],
   "source": [
    "plt.figure(figsize=[15,5])\n",
    "plt.scatter(df_seg.Activity,df_seg.Activity_Count);\n",
    "plt.xlabel('Action Segment')\n",
    "plt.ylabel('Action Frequency')\n",
    "plt.title('Segmentation based on Browsing Activity')\n",
    "plt.savefig('Scatter')"
   ]
  }
 ],
 "metadata": {
  "kernelspec": {
   "display_name": "Python 3 (ipykernel)",
   "language": "python",
   "name": "python3"
  },
  "language_info": {
   "codemirror_mode": {
    "name": "ipython",
    "version": 3
   },
   "file_extension": ".py",
   "mimetype": "text/x-python",
   "name": "python",
   "nbconvert_exporter": "python",
   "pygments_lexer": "ipython3",
   "version": "3.10.5"
  }
 },
 "nbformat": 4,
 "nbformat_minor": 5
}
