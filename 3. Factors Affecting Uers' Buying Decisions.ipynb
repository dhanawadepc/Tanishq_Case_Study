{
 "cells": [
  {
   "cell_type": "markdown",
   "id": "55713f67",
   "metadata": {},
   "source": [
    "# INFERENCE:"
   ]
  },
  {
   "cell_type": "markdown",
   "id": "ebb1de59",
   "metadata": {},
   "source": [
    "### Maximum users who visited catalogue as well as web, have purchased \"COIN\""
   ]
  },
  {
   "cell_type": "markdown",
   "id": "bc1cf1c1",
   "metadata": {},
   "source": [
    "1. The byuing Decision of user is completely depend on Action of the user.\n",
    "   In Datasets given, we have action_type as one feature in Event Data.\n",
    "   AND thats the only verticle that can show whether user has placed any order to purchase anything or not."
   ]
  },
  {
   "cell_type": "markdown",
   "id": "3c7f75bb",
   "metadata": {},
   "source": [
    "2. If the catalogue is observed then we have some different features like:\n",
    "\n",
    "    . 'id'\n",
    "    \n",
    "    . 'product'\n",
    "    \n",
    "    . 'avlble'\n",
    "    \n",
    "    . 'discount_percentage'\n",
    "    \n",
    "    . 'goldkaratage'\n",
    "    \n",
    "    . 'out_of_shelf'\n",
    "    \n",
    "    . 'price'\n",
    "    \n",
    "    Those can be considered to predict/decide whether user will buy anything or not."
   ]
  },
  {
   "cell_type": "markdown",
   "id": "623ec9ec",
   "metadata": {},
   "source": [
    "3. Catalogue Data and Event Data has very less co-relation.\n",
    "   One has to tie them forcefully to draw some insights.    \n",
    "   Here also they are forced to bound by Events \"object_id\" feature and Catalogue's \"id\" feature"
   ]
  },
  {
   "cell_type": "code",
   "execution_count": 1,
   "id": "971cd4e8",
   "metadata": {},
   "outputs": [],
   "source": [
    "import pandas as pd\n",
    "import matplotlib.pyplot as plt\n",
    "import seaborn as sns\n",
    "from sklearn import preprocessing"
   ]
  },
  {
   "cell_type": "code",
   "execution_count": 2,
   "id": "84427276",
   "metadata": {},
   "outputs": [],
   "source": [
    "pd.set_option('display.max_colwidth', None)"
   ]
  },
  {
   "cell_type": "code",
   "execution_count": 3,
   "id": "66f54e90",
   "metadata": {},
   "outputs": [],
   "source": [
    "pd.set_option('display.max_columns',60)"
   ]
  },
  {
   "cell_type": "code",
   "execution_count": 4,
   "id": "07fb73b0",
   "metadata": {
    "scrolled": true
   },
   "outputs": [
    {
     "data": {
      "text/plain": [
       "Index(['action_type', 'user_type', 'epoch', 'object_id', 'user_id', 'sid',\n",
       "       'og_url', 'tt_id', 'sub_account', 'utm_source', 'utm_campaign',\n",
       "       'utm_medium', 'referrer', 'utm_content', 'latitude', 'longitude',\n",
       "       'useragent', 'variant_id'],\n",
       "      dtype='object')"
      ]
     },
     "execution_count": 4,
     "metadata": {},
     "output_type": "execute_result"
    }
   ],
   "source": [
    "df_event = pd.read_csv('Event Data.csv',low_memory=False)\n",
    "df_event.columns"
   ]
  },
  {
   "cell_type": "markdown",
   "id": "c8cd117d",
   "metadata": {},
   "source": [
    "##### Only \"Object_id\" seems to be related to join with catalogue Data"
   ]
  },
  {
   "cell_type": "code",
   "execution_count": 6,
   "id": "8bddf0c1",
   "metadata": {},
   "outputs": [
    {
     "data": {
      "text/html": [
       "<div>\n",
       "<style scoped>\n",
       "    .dataframe tbody tr th:only-of-type {\n",
       "        vertical-align: middle;\n",
       "    }\n",
       "\n",
       "    .dataframe tbody tr th {\n",
       "        vertical-align: top;\n",
       "    }\n",
       "\n",
       "    .dataframe thead th {\n",
       "        text-align: right;\n",
       "    }\n",
       "</style>\n",
       "<table border=\"1\" class=\"dataframe\">\n",
       "  <thead>\n",
       "    <tr style=\"text-align: right;\">\n",
       "      <th></th>\n",
       "      <th>object_id</th>\n",
       "      <th>action_type</th>\n",
       "    </tr>\n",
       "  </thead>\n",
       "  <tbody>\n",
       "    <tr>\n",
       "      <th>0</th>\n",
       "      <td>Buy Engagement Rings Online - Shop Diamond Engagement Rings for Men and Women at Tanishq</td>\n",
       "      <td>view</td>\n",
       "    </tr>\n",
       "    <tr>\n",
       "      <th>1</th>\n",
       "      <td>500064ONAABB09</td>\n",
       "      <td>view</td>\n",
       "    </tr>\n",
       "    <tr>\n",
       "      <th>2</th>\n",
       "      <td>Buy Diamond Earrings Online in India | Shop Latest Diamond Earrings Designs Online | Tanishq</td>\n",
       "      <td>view</td>\n",
       "    </tr>\n",
       "    <tr>\n",
       "      <th>3</th>\n",
       "      <td>511250PGUAAA00</td>\n",
       "      <td>view</td>\n",
       "    </tr>\n",
       "    <tr>\n",
       "      <th>4</th>\n",
       "      <td>502112FHHLAJ54</td>\n",
       "      <td>view</td>\n",
       "    </tr>\n",
       "  </tbody>\n",
       "</table>\n",
       "</div>"
      ],
      "text/plain": [
       "                                                                                      object_id  \\\n",
       "0      Buy Engagement Rings Online - Shop Diamond Engagement Rings for Men and Women at Tanishq   \n",
       "1                                                                                500064ONAABB09   \n",
       "2  Buy Diamond Earrings Online in India | Shop Latest Diamond Earrings Designs Online | Tanishq   \n",
       "3                                                                                511250PGUAAA00   \n",
       "4                                                                                502112FHHLAJ54   \n",
       "\n",
       "  action_type  \n",
       "0        view  \n",
       "1        view  \n",
       "2        view  \n",
       "3        view  \n",
       "4        view  "
      ]
     },
     "execution_count": 6,
     "metadata": {},
     "output_type": "execute_result"
    }
   ],
   "source": [
    "df_event = df_event[['object_id','action_type']]\n",
    "df_event.head()"
   ]
  },
  {
   "cell_type": "code",
   "execution_count": 7,
   "id": "6f4ca789",
   "metadata": {},
   "outputs": [
    {
     "data": {
      "text/plain": [
       "Index(['_id', 'additional_image', 'adult', 'availability_date', 'avlble',\n",
       "       'brand', 'business_unit', 'category', 'collection', 'color',\n",
       "       'condition', 'created_on', 'currency', 'currency_symbol', 'description',\n",
       "       'diamond_clarity', 'diamond_color', 'diamond_cut',\n",
       "       'discount_percentage', 'expiration_date', 'full_description',\n",
       "       'gemstone1', 'gemstone2', 'gemstone3', 'gemstone4', 'gemstone5',\n",
       "       'gender', 'goldkaratage', 'google_product_category', 'gtin', 'height',\n",
       "       'id', 'identifier_exists', 'image', 'item_group_id', 'jew_size',\n",
       "       'jewellery_type', 'last_modified_on', 'listprice', 'metal',\n",
       "       'metal_color', 'mfr_code', 'mpn', 'name', 'occasion', 'out_of_shelf',\n",
       "       'price', 'price_usd', 'product', 'product_type', 'sale_price_usd',\n",
       "       'status', 'sub_account', 'subcategories', 'trendrank', 'unit',\n",
       "       'updated', 'url', 'variants', 'width'],\n",
       "      dtype='object')"
      ]
     },
     "execution_count": 7,
     "metadata": {},
     "output_type": "execute_result"
    }
   ],
   "source": [
    "df_cat = pd.read_csv('tanishq_products.csv')\n",
    "df_cat.columns"
   ]
  },
  {
   "cell_type": "code",
   "execution_count": 8,
   "id": "89f8979c",
   "metadata": {},
   "outputs": [
    {
     "data": {
      "text/html": [
       "<div>\n",
       "<style scoped>\n",
       "    .dataframe tbody tr th:only-of-type {\n",
       "        vertical-align: middle;\n",
       "    }\n",
       "\n",
       "    .dataframe tbody tr th {\n",
       "        vertical-align: top;\n",
       "    }\n",
       "\n",
       "    .dataframe thead th {\n",
       "        text-align: right;\n",
       "    }\n",
       "</style>\n",
       "<table border=\"1\" class=\"dataframe\">\n",
       "  <thead>\n",
       "    <tr style=\"text-align: right;\">\n",
       "      <th></th>\n",
       "      <th>id</th>\n",
       "      <th>product</th>\n",
       "      <th>avlble</th>\n",
       "      <th>discount_percentage</th>\n",
       "      <th>goldkaratage</th>\n",
       "      <th>out_of_shelf</th>\n",
       "      <th>price</th>\n",
       "    </tr>\n",
       "  </thead>\n",
       "  <tbody>\n",
       "    <tr>\n",
       "      <th>0</th>\n",
       "      <td>502998SBHAAA042JA000003</td>\n",
       "      <td>STUD EARRING</td>\n",
       "      <td>0</td>\n",
       "      <td>0</td>\n",
       "      <td>18.0</td>\n",
       "      <td>True</td>\n",
       "      <td>4431.0</td>\n",
       "    </tr>\n",
       "    <tr>\n",
       "      <th>1</th>\n",
       "      <td>552819GAHAAACZ2BD000278</td>\n",
       "      <td>Chain + Pendant</td>\n",
       "      <td>1</td>\n",
       "      <td>5</td>\n",
       "      <td>14.0</td>\n",
       "      <td>False</td>\n",
       "      <td>16149.0</td>\n",
       "    </tr>\n",
       "    <tr>\n",
       "      <th>2</th>\n",
       "      <td>502999FSZLAA022JA005106</td>\n",
       "      <td>FINGER RING</td>\n",
       "      <td>1</td>\n",
       "      <td>0</td>\n",
       "      <td>18.0</td>\n",
       "      <td>False</td>\n",
       "      <td>10988.0</td>\n",
       "    </tr>\n",
       "    <tr>\n",
       "      <th>3</th>\n",
       "      <td>505001SDWAGA092BD005443</td>\n",
       "      <td>STUD EARRING</td>\n",
       "      <td>1</td>\n",
       "      <td>0</td>\n",
       "      <td>18.0</td>\n",
       "      <td>False</td>\n",
       "      <td>7688.0</td>\n",
       "    </tr>\n",
       "    <tr>\n",
       "      <th>4</th>\n",
       "      <td>511183NVYAAA182BA805635</td>\n",
       "      <td>NECKLACE</td>\n",
       "      <td>1</td>\n",
       "      <td>0</td>\n",
       "      <td>22.0</td>\n",
       "      <td>False</td>\n",
       "      <td>200571.0</td>\n",
       "    </tr>\n",
       "  </tbody>\n",
       "</table>\n",
       "</div>"
      ],
      "text/plain": [
       "                        id          product  avlble  discount_percentage  \\\n",
       "0  502998SBHAAA042JA000003     STUD EARRING       0                    0   \n",
       "1  552819GAHAAACZ2BD000278  Chain + Pendant       1                    5   \n",
       "2  502999FSZLAA022JA005106      FINGER RING       1                    0   \n",
       "3  505001SDWAGA092BD005443     STUD EARRING       1                    0   \n",
       "4  511183NVYAAA182BA805635         NECKLACE       1                    0   \n",
       "\n",
       "   goldkaratage  out_of_shelf     price  \n",
       "0          18.0          True    4431.0  \n",
       "1          14.0         False   16149.0  \n",
       "2          18.0         False   10988.0  \n",
       "3          18.0         False    7688.0  \n",
       "4          22.0         False  200571.0  "
      ]
     },
     "execution_count": 8,
     "metadata": {},
     "output_type": "execute_result"
    }
   ],
   "source": [
    "df_cat = df_cat[['id','product','avlble','discount_percentage','goldkaratage','out_of_shelf','price']]\n",
    "df_cat.head()"
   ]
  },
  {
   "cell_type": "code",
   "execution_count": 9,
   "id": "9c49f25e",
   "metadata": {},
   "outputs": [],
   "source": [
    "df_cat.rename(columns={'id':'object_id'},inplace=True)"
   ]
  },
  {
   "cell_type": "markdown",
   "id": "fe7a099b",
   "metadata": {},
   "source": [
    "#### Join Catalogue Data forcefully with the event Data "
   ]
  },
  {
   "cell_type": "code",
   "execution_count": 10,
   "id": "f59cc8ea",
   "metadata": {},
   "outputs": [],
   "source": [
    "# df_cat.head()\n",
    "combined_df = pd.merge(df_event,df_cat,on='object_id')"
   ]
  },
  {
   "cell_type": "code",
   "execution_count": 11,
   "id": "b84f7998",
   "metadata": {},
   "outputs": [
    {
     "data": {
      "text/plain": [
       "array(['COINS', nan], dtype=object)"
      ]
     },
     "execution_count": 11,
     "metadata": {},
     "output_type": "execute_result"
    }
   ],
   "source": [
    "combined_df['product'].unique()"
   ]
  },
  {
   "cell_type": "code",
   "execution_count": 12,
   "id": "a2cda31f",
   "metadata": {},
   "outputs": [
    {
     "data": {
      "text/plain": [
       "array(['view', 'add_to_cart', 'remove_from_cart', 'add_to_wishlist',\n",
       "       'place_order'], dtype=object)"
      ]
     },
     "execution_count": 12,
     "metadata": {},
     "output_type": "execute_result"
    }
   ],
   "source": [
    "combined_df.action_type.unique()"
   ]
  },
  {
   "cell_type": "markdown",
   "id": "e5293b89",
   "metadata": {},
   "source": [
    "#### Fetch only those records for which order has been placed"
   ]
  },
  {
   "cell_type": "code",
   "execution_count": 18,
   "id": "d295d3bd",
   "metadata": {},
   "outputs": [],
   "source": [
    "df_order_placed = combined_df[combined_df['action_type'] == 'place_order']"
   ]
  },
  {
   "cell_type": "code",
   "execution_count": 20,
   "id": "21c6f661",
   "metadata": {},
   "outputs": [],
   "source": [
    "# df_order_placed.action_type = 1"
   ]
  },
  {
   "cell_type": "code",
   "execution_count": 19,
   "id": "aa954e70",
   "metadata": {},
   "outputs": [
    {
     "data": {
      "text/html": [
       "<div>\n",
       "<style scoped>\n",
       "    .dataframe tbody tr th:only-of-type {\n",
       "        vertical-align: middle;\n",
       "    }\n",
       "\n",
       "    .dataframe tbody tr th {\n",
       "        vertical-align: top;\n",
       "    }\n",
       "\n",
       "    .dataframe thead th {\n",
       "        text-align: right;\n",
       "    }\n",
       "</style>\n",
       "<table border=\"1\" class=\"dataframe\">\n",
       "  <thead>\n",
       "    <tr style=\"text-align: right;\">\n",
       "      <th></th>\n",
       "      <th>object_id</th>\n",
       "      <th>action_type</th>\n",
       "      <th>product</th>\n",
       "      <th>avlble</th>\n",
       "      <th>discount_percentage</th>\n",
       "      <th>goldkaratage</th>\n",
       "      <th>out_of_shelf</th>\n",
       "      <th>price</th>\n",
       "    </tr>\n",
       "  </thead>\n",
       "  <tbody>\n",
       "    <tr>\n",
       "      <th>148</th>\n",
       "      <td>600105ZGBRAS00</td>\n",
       "      <td>place_order</td>\n",
       "      <td>COINS</td>\n",
       "      <td>1</td>\n",
       "      <td>0</td>\n",
       "      <td>24.0</td>\n",
       "      <td>False</td>\n",
       "      <td>4719.0</td>\n",
       "    </tr>\n",
       "    <tr>\n",
       "      <th>151</th>\n",
       "      <td>600105ZGBRAS00</td>\n",
       "      <td>place_order</td>\n",
       "      <td>COINS</td>\n",
       "      <td>1</td>\n",
       "      <td>0</td>\n",
       "      <td>24.0</td>\n",
       "      <td>False</td>\n",
       "      <td>4719.0</td>\n",
       "    </tr>\n",
       "    <tr>\n",
       "      <th>155</th>\n",
       "      <td>600105ZGBRAS00</td>\n",
       "      <td>place_order</td>\n",
       "      <td>COINS</td>\n",
       "      <td>1</td>\n",
       "      <td>0</td>\n",
       "      <td>24.0</td>\n",
       "      <td>False</td>\n",
       "      <td>4719.0</td>\n",
       "    </tr>\n",
       "    <tr>\n",
       "      <th>172</th>\n",
       "      <td>600105ZGBRAS00</td>\n",
       "      <td>place_order</td>\n",
       "      <td>COINS</td>\n",
       "      <td>1</td>\n",
       "      <td>0</td>\n",
       "      <td>24.0</td>\n",
       "      <td>False</td>\n",
       "      <td>4719.0</td>\n",
       "    </tr>\n",
       "    <tr>\n",
       "      <th>2463</th>\n",
       "      <td>600209ZHAAAP00</td>\n",
       "      <td>place_order</td>\n",
       "      <td>COINS</td>\n",
       "      <td>1</td>\n",
       "      <td>0</td>\n",
       "      <td>22.0</td>\n",
       "      <td>False</td>\n",
       "      <td>8629.0</td>\n",
       "    </tr>\n",
       "    <tr>\n",
       "      <th>2481</th>\n",
       "      <td>600209ZHAAAP00</td>\n",
       "      <td>place_order</td>\n",
       "      <td>COINS</td>\n",
       "      <td>1</td>\n",
       "      <td>0</td>\n",
       "      <td>22.0</td>\n",
       "      <td>False</td>\n",
       "      <td>8629.0</td>\n",
       "    </tr>\n",
       "    <tr>\n",
       "      <th>2482</th>\n",
       "      <td>600209ZHAAAP00</td>\n",
       "      <td>place_order</td>\n",
       "      <td>COINS</td>\n",
       "      <td>1</td>\n",
       "      <td>0</td>\n",
       "      <td>22.0</td>\n",
       "      <td>False</td>\n",
       "      <td>8629.0</td>\n",
       "    </tr>\n",
       "    <tr>\n",
       "      <th>2770</th>\n",
       "      <td>600102ZNARAS00</td>\n",
       "      <td>place_order</td>\n",
       "      <td>COINS</td>\n",
       "      <td>1</td>\n",
       "      <td>0</td>\n",
       "      <td>24.0</td>\n",
       "      <td>False</td>\n",
       "      <td>4707.0</td>\n",
       "    </tr>\n",
       "    <tr>\n",
       "      <th>3025</th>\n",
       "      <td>600102ZNARAS00</td>\n",
       "      <td>place_order</td>\n",
       "      <td>COINS</td>\n",
       "      <td>1</td>\n",
       "      <td>0</td>\n",
       "      <td>24.0</td>\n",
       "      <td>False</td>\n",
       "      <td>4707.0</td>\n",
       "    </tr>\n",
       "    <tr>\n",
       "      <th>3472</th>\n",
       "      <td>600105ZBARAS00</td>\n",
       "      <td>place_order</td>\n",
       "      <td>COINS</td>\n",
       "      <td>1</td>\n",
       "      <td>0</td>\n",
       "      <td>24.0</td>\n",
       "      <td>False</td>\n",
       "      <td>23426.0</td>\n",
       "    </tr>\n",
       "    <tr>\n",
       "      <th>3530</th>\n",
       "      <td>600102ZBARAS00</td>\n",
       "      <td>place_order</td>\n",
       "      <td>COINS</td>\n",
       "      <td>1</td>\n",
       "      <td>0</td>\n",
       "      <td>24.0</td>\n",
       "      <td>False</td>\n",
       "      <td>46547.0</td>\n",
       "    </tr>\n",
       "    <tr>\n",
       "      <th>3577</th>\n",
       "      <td>600102ZBARAS00</td>\n",
       "      <td>place_order</td>\n",
       "      <td>COINS</td>\n",
       "      <td>1</td>\n",
       "      <td>0</td>\n",
       "      <td>24.0</td>\n",
       "      <td>False</td>\n",
       "      <td>46547.0</td>\n",
       "    </tr>\n",
       "    <tr>\n",
       "      <th>3581</th>\n",
       "      <td>600102ZBARAS00</td>\n",
       "      <td>place_order</td>\n",
       "      <td>COINS</td>\n",
       "      <td>1</td>\n",
       "      <td>0</td>\n",
       "      <td>24.0</td>\n",
       "      <td>False</td>\n",
       "      <td>46547.0</td>\n",
       "    </tr>\n",
       "    <tr>\n",
       "      <th>3758</th>\n",
       "      <td>600102ZBARAS00</td>\n",
       "      <td>place_order</td>\n",
       "      <td>COINS</td>\n",
       "      <td>1</td>\n",
       "      <td>0</td>\n",
       "      <td>24.0</td>\n",
       "      <td>False</td>\n",
       "      <td>46547.0</td>\n",
       "    </tr>\n",
       "    <tr>\n",
       "      <th>3843</th>\n",
       "      <td>600113ZEARAP00</td>\n",
       "      <td>place_order</td>\n",
       "      <td>COINS</td>\n",
       "      <td>1</td>\n",
       "      <td>0</td>\n",
       "      <td>22.0</td>\n",
       "      <td>False</td>\n",
       "      <td>4314.0</td>\n",
       "    </tr>\n",
       "    <tr>\n",
       "      <th>4270</th>\n",
       "      <td>600102ZKCRAS00</td>\n",
       "      <td>place_order</td>\n",
       "      <td>COINS</td>\n",
       "      <td>0</td>\n",
       "      <td>0</td>\n",
       "      <td>24.0</td>\n",
       "      <td>True</td>\n",
       "      <td>9391.0</td>\n",
       "    </tr>\n",
       "    <tr>\n",
       "      <th>4709</th>\n",
       "      <td>600209ZMAAAP00</td>\n",
       "      <td>place_order</td>\n",
       "      <td>COINS</td>\n",
       "      <td>0</td>\n",
       "      <td>0</td>\n",
       "      <td>22.0</td>\n",
       "      <td>False</td>\n",
       "      <td>8629.0</td>\n",
       "    </tr>\n",
       "    <tr>\n",
       "      <th>5240</th>\n",
       "      <td>600102ZNARAP00</td>\n",
       "      <td>place_order</td>\n",
       "      <td>COINS</td>\n",
       "      <td>1</td>\n",
       "      <td>0</td>\n",
       "      <td>22.0</td>\n",
       "      <td>False</td>\n",
       "      <td>4326.0</td>\n",
       "    </tr>\n",
       "    <tr>\n",
       "      <th>5276</th>\n",
       "      <td>600102ZNARAP00</td>\n",
       "      <td>place_order</td>\n",
       "      <td>COINS</td>\n",
       "      <td>1</td>\n",
       "      <td>0</td>\n",
       "      <td>22.0</td>\n",
       "      <td>False</td>\n",
       "      <td>4326.0</td>\n",
       "    </tr>\n",
       "  </tbody>\n",
       "</table>\n",
       "</div>"
      ],
      "text/plain": [
       "           object_id  action_type product  avlble  discount_percentage  \\\n",
       "148   600105ZGBRAS00  place_order   COINS       1                    0   \n",
       "151   600105ZGBRAS00  place_order   COINS       1                    0   \n",
       "155   600105ZGBRAS00  place_order   COINS       1                    0   \n",
       "172   600105ZGBRAS00  place_order   COINS       1                    0   \n",
       "2463  600209ZHAAAP00  place_order   COINS       1                    0   \n",
       "2481  600209ZHAAAP00  place_order   COINS       1                    0   \n",
       "2482  600209ZHAAAP00  place_order   COINS       1                    0   \n",
       "2770  600102ZNARAS00  place_order   COINS       1                    0   \n",
       "3025  600102ZNARAS00  place_order   COINS       1                    0   \n",
       "3472  600105ZBARAS00  place_order   COINS       1                    0   \n",
       "3530  600102ZBARAS00  place_order   COINS       1                    0   \n",
       "3577  600102ZBARAS00  place_order   COINS       1                    0   \n",
       "3581  600102ZBARAS00  place_order   COINS       1                    0   \n",
       "3758  600102ZBARAS00  place_order   COINS       1                    0   \n",
       "3843  600113ZEARAP00  place_order   COINS       1                    0   \n",
       "4270  600102ZKCRAS00  place_order   COINS       0                    0   \n",
       "4709  600209ZMAAAP00  place_order   COINS       0                    0   \n",
       "5240  600102ZNARAP00  place_order   COINS       1                    0   \n",
       "5276  600102ZNARAP00  place_order   COINS       1                    0   \n",
       "\n",
       "      goldkaratage  out_of_shelf    price  \n",
       "148           24.0         False   4719.0  \n",
       "151           24.0         False   4719.0  \n",
       "155           24.0         False   4719.0  \n",
       "172           24.0         False   4719.0  \n",
       "2463          22.0         False   8629.0  \n",
       "2481          22.0         False   8629.0  \n",
       "2482          22.0         False   8629.0  \n",
       "2770          24.0         False   4707.0  \n",
       "3025          24.0         False   4707.0  \n",
       "3472          24.0         False  23426.0  \n",
       "3530          24.0         False  46547.0  \n",
       "3577          24.0         False  46547.0  \n",
       "3581          24.0         False  46547.0  \n",
       "3758          24.0         False  46547.0  \n",
       "3843          22.0         False   4314.0  \n",
       "4270          24.0          True   9391.0  \n",
       "4709          22.0         False   8629.0  \n",
       "5240          22.0         False   4326.0  \n",
       "5276          22.0         False   4326.0  "
      ]
     },
     "execution_count": 19,
     "metadata": {},
     "output_type": "execute_result"
    }
   ],
   "source": [
    "df_order_placed"
   ]
  },
  {
   "cell_type": "code",
   "execution_count": 15,
   "id": "a4f4df88",
   "metadata": {},
   "outputs": [
    {
     "data": {
      "text/html": [
       "<div>\n",
       "<style scoped>\n",
       "    .dataframe tbody tr th:only-of-type {\n",
       "        vertical-align: middle;\n",
       "    }\n",
       "\n",
       "    .dataframe tbody tr th {\n",
       "        vertical-align: top;\n",
       "    }\n",
       "\n",
       "    .dataframe thead th {\n",
       "        text-align: right;\n",
       "    }\n",
       "</style>\n",
       "<table border=\"1\" class=\"dataframe\">\n",
       "  <thead>\n",
       "    <tr style=\"text-align: right;\">\n",
       "      <th></th>\n",
       "      <th>avlble</th>\n",
       "      <th>discount_percentage</th>\n",
       "      <th>goldkaratage</th>\n",
       "      <th>out_of_shelf</th>\n",
       "      <th>price</th>\n",
       "    </tr>\n",
       "  </thead>\n",
       "  <tbody>\n",
       "    <tr>\n",
       "      <th>avlble</th>\n",
       "      <td>1.000000</td>\n",
       "      <td>NaN</td>\n",
       "      <td>0.093560</td>\n",
       "      <td>-0.687184</td>\n",
       "      <td>0.134636</td>\n",
       "    </tr>\n",
       "    <tr>\n",
       "      <th>discount_percentage</th>\n",
       "      <td>NaN</td>\n",
       "      <td>NaN</td>\n",
       "      <td>NaN</td>\n",
       "      <td>NaN</td>\n",
       "      <td>NaN</td>\n",
       "    </tr>\n",
       "    <tr>\n",
       "      <th>goldkaratage</th>\n",
       "      <td>0.093560</td>\n",
       "      <td>NaN</td>\n",
       "      <td>1.000000</td>\n",
       "      <td>0.180021</td>\n",
       "      <td>0.402434</td>\n",
       "    </tr>\n",
       "    <tr>\n",
       "      <th>out_of_shelf</th>\n",
       "      <td>-0.687184</td>\n",
       "      <td>NaN</td>\n",
       "      <td>0.180021</td>\n",
       "      <td>1.000000</td>\n",
       "      <td>-0.087100</td>\n",
       "    </tr>\n",
       "    <tr>\n",
       "      <th>price</th>\n",
       "      <td>0.134636</td>\n",
       "      <td>NaN</td>\n",
       "      <td>0.402434</td>\n",
       "      <td>-0.087100</td>\n",
       "      <td>1.000000</td>\n",
       "    </tr>\n",
       "  </tbody>\n",
       "</table>\n",
       "</div>"
      ],
      "text/plain": [
       "                       avlble  discount_percentage  goldkaratage  \\\n",
       "avlble               1.000000                  NaN      0.093560   \n",
       "discount_percentage       NaN                  NaN           NaN   \n",
       "goldkaratage         0.093560                  NaN      1.000000   \n",
       "out_of_shelf        -0.687184                  NaN      0.180021   \n",
       "price                0.134636                  NaN      0.402434   \n",
       "\n",
       "                     out_of_shelf     price  \n",
       "avlble                  -0.687184  0.134636  \n",
       "discount_percentage           NaN       NaN  \n",
       "goldkaratage             0.180021  0.402434  \n",
       "out_of_shelf             1.000000 -0.087100  \n",
       "price                   -0.087100  1.000000  "
      ]
     },
     "execution_count": 15,
     "metadata": {},
     "output_type": "execute_result"
    }
   ],
   "source": [
    "df_order_placed.corr()"
   ]
  },
  {
   "cell_type": "code",
   "execution_count": 21,
   "id": "e5063894",
   "metadata": {},
   "outputs": [],
   "source": [
    "corr = df_order_placed.corr()"
   ]
  },
  {
   "cell_type": "code",
   "execution_count": 22,
   "id": "74f76c3b",
   "metadata": {},
   "outputs": [
    {
     "data": {
      "text/plain": [
       "<AxesSubplot:>"
      ]
     },
     "execution_count": 22,
     "metadata": {},
     "output_type": "execute_result"
    },
    {
     "data": {
      "image/png": "[encoded data removed]",
      "text/plain": [
       "<Figure size 640x480 with 2 Axes>"
      ]
     },
     "metadata": {},
     "output_type": "display_data"
    }
   ],
   "source": [
    "sns.heatmap(corr, xticklabels=corr.columns,yticklabels=corr.columns)"
   ]
  }
 ],
 "metadata": {
  "kernelspec": {
   "display_name": "Python 3 (ipykernel)",
   "language": "python",
   "name": "python3"
  },
  "language_info": {
   "codemirror_mode": {
    "name": "ipython",
    "version": 3
   },
   "file_extension": ".py",
   "mimetype": "text/x-python",
   "name": "python",
   "nbconvert_exporter": "python",
   "pygments_lexer": "ipython3",
   "version": "3.10.5"
  }
 },
 "nbformat": 4,
 "nbformat_minor": 5
}
